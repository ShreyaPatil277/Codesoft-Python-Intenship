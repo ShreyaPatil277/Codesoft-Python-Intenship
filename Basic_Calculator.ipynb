{
  "nbformat": 4,
  "nbformat_minor": 0,
  "metadata": {
    "colab": {
      "provenance": [],
      "authorship_tag": "ABX9TyOw3M7tTXqudZK/qP/vToWm",
      "include_colab_link": true
    },
    "kernelspec": {
      "name": "python3",
      "display_name": "Python 3"
    },
    "language_info": {
      "name": "python"
    }
  },
  "cells": [
    {
      "cell_type": "markdown",
      "metadata": {
        "id": "view-in-github",
        "colab_type": "text"
      },
      "source": [
        "<a href=\"https://colab.research.google.com/github/ShreyaPatil277/Codesoft-Python-Intenship/blob/main/Basic_Calculator.ipynb\" target=\"_parent\"><img src=\"https://colab.research.google.com/assets/colab-badge.svg\" alt=\"Open In Colab\"/></a>"
      ]
    },
    {
      "cell_type": "markdown",
      "source": [
        "Design a simple calculator with basic arithmetic operations.\n",
        "Prompt the user to input two numbers and an operation choice.\n",
        "\n",
        "Perform the calculation and display the result."
      ],
      "metadata": {
        "id": "Bs33YwIXiCxg"
      }
    },
    {
      "cell_type": "code",
      "source": [
        "\n",
        "def add(x, y):\n",
        "    return x + y\n",
        "\n",
        "def subtract(x, y):\n",
        "    return x - y\n",
        "\n",
        "def multiply(x, y):\n",
        "    return x * y\n",
        "\n",
        "def divide(x, y):\n",
        "    if y == 0:\n",
        "        return \"Division by zero is not possible enter number other than 0.\"\n",
        "    return x / y\n",
        "\n",
        "def exponent(x, y):\n",
        "    return x ** y\n",
        "\n",
        "def calculator():\n",
        "    print(\"Welcome to the Shreya's Calculator!\")\n",
        "\n",
        "\n",
        "    number1 = float(input(\"Enter first number: \"))\n",
        "    number2 = float(input(\"Enter second number: \"))\n",
        "\n",
        "\n",
        "    print(\"Select the operation:\")\n",
        "    print(\"1. Addition (+)\")\n",
        "    print(\"2. Subtract (-)\")\n",
        "    print(\"3. Multiply (*)\")\n",
        "    print(\"4. Divide (/)\")\n",
        "    print(\"5.Exponent(**)\")\n",
        "\n",
        "    operation = input(\"Enter your choice (1/2/3/4/5): \")\n",
        "\n",
        "    case 1:  operation == '1':\n",
        "        result = add(number1, number2)\n",
        "        print(f\"The addition of {number1} + {number2} = {result}\")\n",
        "\n",
        "    elif operation == '2':\n",
        "        result = subtract(number1, number2)\n",
        "        print(f\"The subraction  of {number1} - {number2} = {result}\")\n",
        "\n",
        "    elif operation == '3':\n",
        "        result = multiply(number1, number2)\n",
        "        print(f\"The multiplication of {number1} * {number2} = {result}\")\n",
        "\n",
        "    elif operation == '4':\n",
        "        result = divide(number1, number2)\n",
        "        print(f\"The division of {number1} / {number2} = {result}\")\n",
        "\n",
        "    elif operation =='5' :\n",
        "        result = exponent(number1,number2)\n",
        "        print(f\"The Exponent of {number1} ** {number2} = {result}\")\n",
        "\n",
        "    else:\n",
        "        print(\"Invalid operation choice!\")\n",
        "\n",
        "calculator()\n",
        "print(\"\")"
      ],
      "metadata": {
        "colab": {
          "base_uri": "https://localhost:8080/"
        },
        "id": "jRdYFOGfiJxk",
        "outputId": "13558ea1-5ff5-450b-fdcd-59eedeaefaa6"
      },
      "execution_count": 1,
      "outputs": [
        {
          "output_type": "stream",
          "name": "stdout",
          "text": [
            "Welcome to the Simple Calculator!\n",
            "Enter first number: 23\n",
            "Enter second number: 69\n",
            "Select the operation:\n",
            "1. Addition (+)\n",
            "2. Subtract (-)\n",
            "3. Multiply (*)\n",
            "4. Divide (/)\n",
            "5.Exponent(**)\n",
            "Enter your choice (1/2/3/4/5): 5\n",
            "The Exponent of 23.0 ** 69.0 = 9.103757593578437e+93\n"
          ]
        }
      ]
    }
  ]
}